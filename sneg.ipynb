{
  "nbformat": 4,
  "nbformat_minor": 0,
  "metadata": {
    "colab": {
      "provenance": [],
      "collapsed_sections": [],
      "authorship_tag": "ABX9TyPfbd26GDvePej7kKAubZRE",
      "include_colab_link": true
    },
    "kernelspec": {
      "name": "python3",
      "display_name": "Python 3"
    },
    "language_info": {
      "name": "python"
    }
  },
  "cells": [
    {
      "cell_type": "markdown",
      "metadata": {
        "id": "view-in-github",
        "colab_type": "text"
      },
      "source": [
        "<a href=\"https://colab.research.google.com/github/vzorspb/DE_Sprint/blob/main/sneg.ipynb\" target=\"_parent\"><img src=\"https://colab.research.google.com/assets/colab-badge.svg\" alt=\"Open In Colab\"/></a>"
      ]
    },
    {
      "cell_type": "code",
      "execution_count": 22,
      "metadata": {
        "colab": {
          "base_uri": "https://localhost:8080/",
          "height": 917
        },
        "id": "qwAAu0tq5BId",
        "outputId": "ec6a6acb-42e6-4c05-f31e-8c12b729523d"
      },
      "outputs": [
        {
          "output_type": "display_data",
          "data": {
            "text/html": [
              "<html>\n",
              "<head><meta charset=\"utf-8\" /></head>\n",
              "<body>\n",
              "    <div>            <script src=\"https://cdnjs.cloudflare.com/ajax/libs/mathjax/2.7.5/MathJax.js?config=TeX-AMS-MML_SVG\"></script><script type=\"text/javascript\">if (window.MathJax) {MathJax.Hub.Config({SVG: {font: \"STIX-Web\"}});}</script>                <script type=\"text/javascript\">window.PlotlyConfig = {MathJaxConfig: 'local'};</script>\n",
              "        <script src=\"https://cdn.plot.ly/plotly-2.8.3.min.js\"></script>                <div id=\"7ba04645-1b2b-45d9-8ba9-ac92b4b401e9\" class=\"plotly-graph-div\" style=\"height:900px; width:100%;\"></div>            <script type=\"text/javascript\">                                    window.PLOTLYENV=window.PLOTLYENV || {};                                    if (document.getElementById(\"7ba04645-1b2b-45d9-8ba9-ac92b4b401e9\")) {                    Plotly.newPlot(                        \"7ba04645-1b2b-45d9-8ba9-ac92b4b401e9\",                        [{\"link\":{\"color\":[\"rgba(0,255,0, 0.5)\",\"rgba(0,255,0, 0.5)\",\"rgba(0,255,0, 0.5)\",\"rgba(0,255,0, 0.5)\",\"rgba(0,255,0, 0.5)\",\"rgba(0,255,0, 0.5)\",\"rgba(0,255,0, 0.5)\",\"rgba(0,255,0, 0.5)\",\"rgba(0,255,0, 0.5)\",\"rgba(0,255,0, 0.5)\",\"rgba(0,255,0, 0.5)\",\"rgba(0,255,0, 0.5)\",\"rgba(0,255,0, 0.5)\",\"rgba(0,255,0, 0.5)\",\"rgba(0,255,0, 0.5)\",\"rgba(0,255,0, 0.5)\",\"rgba(0,255,0, 0.5)\",\"rgba(0,255,0, 0.5)\",\"rgba(0,255,0, 0.5)\",\"rgba(0,255,0, 0.5)\",\"rgba(0,255,0, 0.5)\",\"rgba(0,255,0, 0.5)\",\"rgba(0,255,0, 0.5)\",\"rgba(0,255,255, 0.5)\",\"rgba(0,255,255, 0.5)\"],\"source\":[0,1,2,3,3,4,5,6,7,8,9,10,11,12,13,14,15,16,17,19,20,22,23,0,22],\"target\":[22,22,19,19,19,23,18,18,23,20,20,22,18,18,18,18,20,21,22,18,18,19,20,22,18],\"value\":[1.521969,1.519553,3.53088,2.355269,2.0518,1.651776,2.775303,2.413163,3.72269,2.272655,3.173556,2.905142,1.48728,1.571576,3.60271,2.982009,2.197869,2.096081,4,4,1,3,2,1,6]},\"node\":{\"color\":[\"blue\",\"blue\",\"blue\",\"blue\",\"blue\",\"blue\",\"blue\",\"blue\",\"blue\",\"blue\",\"blue\",\"blue\",\"blue\",\"blue\",\"blue\",\"blue\",\"blue\",\"blue\",\"blue\",\"red\",\"red\",\"blue\",\"blue\",\"blue\"],\"label\":[\"\\u0410\\u0434\\u043c\\u0438\\u0440\\u0430\\u043b\\u0442\\u0435\\u0439\\u0441\\u043a\\u0438\\u0439 \\u0440\\u0430\\u0439\\u043e\\u043d\",\"\\u0412\\u0430\\u0441\\u0438\\u043b\\u0435\\u043e\\u0441\\u0442\\u0440\\u043e\\u0432\\u0441\\u043a\\u0438\\u0439 \\u0440\\u0430\\u0439\\u043e\\u043d\",\"\\u0412\\u044b\\u0431\\u043e\\u0440\\u0433\\u0441\\u043a\\u0438\\u0439 \\u0440\\u0430\\u0439\\u043e\\u043d\",\"\\u041a\\u0430\\u043b\\u0438\\u043d\\u0438\\u043d\\u0441\\u043a\\u0438\\u0439 \\u0440\\u0430\\u0439\\u043e\\u043d\",\"\\u041a\\u0438\\u0440\\u043e\\u0432\\u0441\\u043a\\u0438\\u0439 \\u0440\\u0430\\u0439\\u043e\\u043d\",\"\\u041a\\u043e\\u043b\\u043f\\u0438\\u043d\\u0441\\u043a\\u0438\\u0439 \\u0440\\u0430\\u0439\\u043e\\u043d\",\"\\u041a\\u0440\\u0430\\u0441\\u043d\\u043e\\u0433\\u0432\\u0430\\u0440\\u0434\\u0435\\u0439\\u0441\\u043a\\u0438\\u0439 \\u0440\\u0430\\u0439\\u043e\\u043d\",\"\\u041a\\u0440\\u0430\\u0441\\u043d\\u043e\\u0441\\u0435\\u043b\\u044c\\u0441\\u043a\\u0438\\u0439 \\u0440\\u0430\\u0439\\u043e\\u043d\",\"\\u041a\\u0440\\u043e\\u043d\\u0448\\u0442\\u0430\\u0434\\u0442c\\u043a\\u0438\\u0439 \\u0440\\u0430\\u0439\\u043e\\u043d\",\"\\u041a\\u0443\\u0440\\u043e\\u0440\\u0442\\u043d\\u044b\\u0439 \\u0440\\u0430\\u0439\\u043e\\u043d\",\"\\u041c\\u043e\\u0441\\u043a\\u043e\\u0432\\u0441\\u043a\\u0438\\u0439 \\u0440\\u0430\\u0439\\u043e\\u043d\",\"\\u041d\\u0435\\u0432\\u0441\\u043a\\u0438\\u0439 \\u0440\\u0430\\u0439\\u043e\\u043d\",\"\\u041f\\u0435\\u0442\\u0440\\u043e\\u0433\\u0440\\u0430\\u0434\\u0441\\u043a\\u0438\\u0439 \\u0440\\u0430\\u0439\\u043e\\u043d\",\"\\u041f\\u0435\\u0442\\u0440\\u043e\\u0434\\u0432\\u043e\\u0440\\u0446\\u043e\\u0432\\u044b\\u0439 \\u0440\\u0430\\u0439\\u043e\\u043d\",\"\\u041f\\u0440\\u0438\\u043c\\u043e\\u0440\\u0441\\u043a\\u0438\\u0439 \\u0440\\u0430\\u0439\\u043e\\u043d\",\"\\u041f\\u0443\\u0448\\u043a\\u0438\\u043d\\u0441\\u043a\\u0438\\u0439 \\u0440\\u0430\\u0439\\u043e\\u043d\",\"\\u0424\\u0440\\u0443\\u043d\\u0437\\u0435\\u043d\\u0441\\u043a\\u0438\\u0439 \\u0440\\u0430\\u0439\\u043e\\u043d\",\"\\u0426\\u0435\\u043d\\u0442\\u0440\\u0430\\u043b\\u044c\\u043d\\u044b\\u0439 \\u0440\\u0430\\u0439\\u043e\\u043d\",\"\\u0421\\u043d\\u0435\\u0433\\u043e\\u043f\\u043b\\u0430\\u0432\\u0438\\u043b\\u044c\\u043d\\u044b\\u0439 \\u043f\\u0443\\u043d\\u043a\\u0442 1\",\"\\u0412\\u0440\\u0435\\u043c\\u0435\\u043d\\u043d\\u044b\\u0439 \\u0441\\u043d\\u0435\\u0433\\u043e\\u043f\\u0440\\u0438\\u0435\\u043c\\u043d\\u044b\\u0439 \\u043f\\u0443\\u043d\\u043a\\u0442 1\",\"\\u0412\\u0440\\u0435\\u043c\\u0435\\u043d\\u043d\\u044b\\u0439 \\u0441\\u043d\\u0435\\u0433\\u043e\\u043f\\u0440\\u0438\\u0435\\u043c\\u043d\\u044b\\u0439 \\u043f\\u0443\\u043d\\u043a\\u0442 2\",\"\\u0421\\u043d\\u0435\\u0433\\u043e\\u043f\\u043b\\u0430\\u0432\\u0438\\u043b\\u044c\\u043d\\u044b\\u0439 \\u043f\\u0443\\u043d\\u043a\\u0442 3\",\"\\u0413\\u0423\\u0414\\u041f \\\"\\u0426\\u0435\\u043d\\u0442\\u0440\\\"\",\"\\u0413\\u0423\\u0414\\u041f \\\"\\u041f\\u0443\\u0442\\u044c\\\"\"],\"line\":{\"color\":\"black\",\"width\":0.5},\"pad\":15,\"thickness\":20},\"orientation\":\"h\",\"type\":\"sankey\"}],                        {\"template\":{\"data\":{\"bar\":[{\"error_x\":{\"color\":\"#2a3f5f\"},\"error_y\":{\"color\":\"#2a3f5f\"},\"marker\":{\"line\":{\"color\":\"#E5ECF6\",\"width\":0.5},\"pattern\":{\"fillmode\":\"overlay\",\"size\":10,\"solidity\":0.2}},\"type\":\"bar\"}],\"barpolar\":[{\"marker\":{\"line\":{\"color\":\"#E5ECF6\",\"width\":0.5},\"pattern\":{\"fillmode\":\"overlay\",\"size\":10,\"solidity\":0.2}},\"type\":\"barpolar\"}],\"carpet\":[{\"aaxis\":{\"endlinecolor\":\"#2a3f5f\",\"gridcolor\":\"white\",\"linecolor\":\"white\",\"minorgridcolor\":\"white\",\"startlinecolor\":\"#2a3f5f\"},\"baxis\":{\"endlinecolor\":\"#2a3f5f\",\"gridcolor\":\"white\",\"linecolor\":\"white\",\"minorgridcolor\":\"white\",\"startlinecolor\":\"#2a3f5f\"},\"type\":\"carpet\"}],\"choropleth\":[{\"colorbar\":{\"outlinewidth\":0,\"ticks\":\"\"},\"type\":\"choropleth\"}],\"contour\":[{\"colorbar\":{\"outlinewidth\":0,\"ticks\":\"\"},\"colorscale\":[[0.0,\"#0d0887\"],[0.1111111111111111,\"#46039f\"],[0.2222222222222222,\"#7201a8\"],[0.3333333333333333,\"#9c179e\"],[0.4444444444444444,\"#bd3786\"],[0.5555555555555556,\"#d8576b\"],[0.6666666666666666,\"#ed7953\"],[0.7777777777777778,\"#fb9f3a\"],[0.8888888888888888,\"#fdca26\"],[1.0,\"#f0f921\"]],\"type\":\"contour\"}],\"contourcarpet\":[{\"colorbar\":{\"outlinewidth\":0,\"ticks\":\"\"},\"type\":\"contourcarpet\"}],\"heatmap\":[{\"colorbar\":{\"outlinewidth\":0,\"ticks\":\"\"},\"colorscale\":[[0.0,\"#0d0887\"],[0.1111111111111111,\"#46039f\"],[0.2222222222222222,\"#7201a8\"],[0.3333333333333333,\"#9c179e\"],[0.4444444444444444,\"#bd3786\"],[0.5555555555555556,\"#d8576b\"],[0.6666666666666666,\"#ed7953\"],[0.7777777777777778,\"#fb9f3a\"],[0.8888888888888888,\"#fdca26\"],[1.0,\"#f0f921\"]],\"type\":\"heatmap\"}],\"heatmapgl\":[{\"colorbar\":{\"outlinewidth\":0,\"ticks\":\"\"},\"colorscale\":[[0.0,\"#0d0887\"],[0.1111111111111111,\"#46039f\"],[0.2222222222222222,\"#7201a8\"],[0.3333333333333333,\"#9c179e\"],[0.4444444444444444,\"#bd3786\"],[0.5555555555555556,\"#d8576b\"],[0.6666666666666666,\"#ed7953\"],[0.7777777777777778,\"#fb9f3a\"],[0.8888888888888888,\"#fdca26\"],[1.0,\"#f0f921\"]],\"type\":\"heatmapgl\"}],\"histogram\":[{\"marker\":{\"pattern\":{\"fillmode\":\"overlay\",\"size\":10,\"solidity\":0.2}},\"type\":\"histogram\"}],\"histogram2d\":[{\"colorbar\":{\"outlinewidth\":0,\"ticks\":\"\"},\"colorscale\":[[0.0,\"#0d0887\"],[0.1111111111111111,\"#46039f\"],[0.2222222222222222,\"#7201a8\"],[0.3333333333333333,\"#9c179e\"],[0.4444444444444444,\"#bd3786\"],[0.5555555555555556,\"#d8576b\"],[0.6666666666666666,\"#ed7953\"],[0.7777777777777778,\"#fb9f3a\"],[0.8888888888888888,\"#fdca26\"],[1.0,\"#f0f921\"]],\"type\":\"histogram2d\"}],\"histogram2dcontour\":[{\"colorbar\":{\"outlinewidth\":0,\"ticks\":\"\"},\"colorscale\":[[0.0,\"#0d0887\"],[0.1111111111111111,\"#46039f\"],[0.2222222222222222,\"#7201a8\"],[0.3333333333333333,\"#9c179e\"],[0.4444444444444444,\"#bd3786\"],[0.5555555555555556,\"#d8576b\"],[0.6666666666666666,\"#ed7953\"],[0.7777777777777778,\"#fb9f3a\"],[0.8888888888888888,\"#fdca26\"],[1.0,\"#f0f921\"]],\"type\":\"histogram2dcontour\"}],\"mesh3d\":[{\"colorbar\":{\"outlinewidth\":0,\"ticks\":\"\"},\"type\":\"mesh3d\"}],\"parcoords\":[{\"line\":{\"colorbar\":{\"outlinewidth\":0,\"ticks\":\"\"}},\"type\":\"parcoords\"}],\"pie\":[{\"automargin\":true,\"type\":\"pie\"}],\"scatter\":[{\"marker\":{\"colorbar\":{\"outlinewidth\":0,\"ticks\":\"\"}},\"type\":\"scatter\"}],\"scatter3d\":[{\"line\":{\"colorbar\":{\"outlinewidth\":0,\"ticks\":\"\"}},\"marker\":{\"colorbar\":{\"outlinewidth\":0,\"ticks\":\"\"}},\"type\":\"scatter3d\"}],\"scattercarpet\":[{\"marker\":{\"colorbar\":{\"outlinewidth\":0,\"ticks\":\"\"}},\"type\":\"scattercarpet\"}],\"scattergeo\":[{\"marker\":{\"colorbar\":{\"outlinewidth\":0,\"ticks\":\"\"}},\"type\":\"scattergeo\"}],\"scattergl\":[{\"marker\":{\"colorbar\":{\"outlinewidth\":0,\"ticks\":\"\"}},\"type\":\"scattergl\"}],\"scattermapbox\":[{\"marker\":{\"colorbar\":{\"outlinewidth\":0,\"ticks\":\"\"}},\"type\":\"scattermapbox\"}],\"scatterpolar\":[{\"marker\":{\"colorbar\":{\"outlinewidth\":0,\"ticks\":\"\"}},\"type\":\"scatterpolar\"}],\"scatterpolargl\":[{\"marker\":{\"colorbar\":{\"outlinewidth\":0,\"ticks\":\"\"}},\"type\":\"scatterpolargl\"}],\"scatterternary\":[{\"marker\":{\"colorbar\":{\"outlinewidth\":0,\"ticks\":\"\"}},\"type\":\"scatterternary\"}],\"surface\":[{\"colorbar\":{\"outlinewidth\":0,\"ticks\":\"\"},\"colorscale\":[[0.0,\"#0d0887\"],[0.1111111111111111,\"#46039f\"],[0.2222222222222222,\"#7201a8\"],[0.3333333333333333,\"#9c179e\"],[0.4444444444444444,\"#bd3786\"],[0.5555555555555556,\"#d8576b\"],[0.6666666666666666,\"#ed7953\"],[0.7777777777777778,\"#fb9f3a\"],[0.8888888888888888,\"#fdca26\"],[1.0,\"#f0f921\"]],\"type\":\"surface\"}],\"table\":[{\"cells\":{\"fill\":{\"color\":\"#EBF0F8\"},\"line\":{\"color\":\"white\"}},\"header\":{\"fill\":{\"color\":\"#C8D4E3\"},\"line\":{\"color\":\"white\"}},\"type\":\"table\"}]},\"layout\":{\"annotationdefaults\":{\"arrowcolor\":\"#2a3f5f\",\"arrowhead\":0,\"arrowwidth\":1},\"autotypenumbers\":\"strict\",\"coloraxis\":{\"colorbar\":{\"outlinewidth\":0,\"ticks\":\"\"}},\"colorscale\":{\"diverging\":[[0,\"#8e0152\"],[0.1,\"#c51b7d\"],[0.2,\"#de77ae\"],[0.3,\"#f1b6da\"],[0.4,\"#fde0ef\"],[0.5,\"#f7f7f7\"],[0.6,\"#e6f5d0\"],[0.7,\"#b8e186\"],[0.8,\"#7fbc41\"],[0.9,\"#4d9221\"],[1,\"#276419\"]],\"sequential\":[[0.0,\"#0d0887\"],[0.1111111111111111,\"#46039f\"],[0.2222222222222222,\"#7201a8\"],[0.3333333333333333,\"#9c179e\"],[0.4444444444444444,\"#bd3786\"],[0.5555555555555556,\"#d8576b\"],[0.6666666666666666,\"#ed7953\"],[0.7777777777777778,\"#fb9f3a\"],[0.8888888888888888,\"#fdca26\"],[1.0,\"#f0f921\"]],\"sequentialminus\":[[0.0,\"#0d0887\"],[0.1111111111111111,\"#46039f\"],[0.2222222222222222,\"#7201a8\"],[0.3333333333333333,\"#9c179e\"],[0.4444444444444444,\"#bd3786\"],[0.5555555555555556,\"#d8576b\"],[0.6666666666666666,\"#ed7953\"],[0.7777777777777778,\"#fb9f3a\"],[0.8888888888888888,\"#fdca26\"],[1.0,\"#f0f921\"]]},\"colorway\":[\"#636efa\",\"#EF553B\",\"#00cc96\",\"#ab63fa\",\"#FFA15A\",\"#19d3f3\",\"#FF6692\",\"#B6E880\",\"#FF97FF\",\"#FECB52\"],\"font\":{\"color\":\"#2a3f5f\"},\"geo\":{\"bgcolor\":\"white\",\"lakecolor\":\"white\",\"landcolor\":\"#E5ECF6\",\"showlakes\":true,\"showland\":true,\"subunitcolor\":\"white\"},\"hoverlabel\":{\"align\":\"left\"},\"hovermode\":\"closest\",\"mapbox\":{\"style\":\"light\"},\"paper_bgcolor\":\"white\",\"plot_bgcolor\":\"#E5ECF6\",\"polar\":{\"angularaxis\":{\"gridcolor\":\"white\",\"linecolor\":\"white\",\"ticks\":\"\"},\"bgcolor\":\"#E5ECF6\",\"radialaxis\":{\"gridcolor\":\"white\",\"linecolor\":\"white\",\"ticks\":\"\"}},\"scene\":{\"xaxis\":{\"backgroundcolor\":\"#E5ECF6\",\"gridcolor\":\"white\",\"gridwidth\":2,\"linecolor\":\"white\",\"showbackground\":true,\"ticks\":\"\",\"zerolinecolor\":\"white\"},\"yaxis\":{\"backgroundcolor\":\"#E5ECF6\",\"gridcolor\":\"white\",\"gridwidth\":2,\"linecolor\":\"white\",\"showbackground\":true,\"ticks\":\"\",\"zerolinecolor\":\"white\"},\"zaxis\":{\"backgroundcolor\":\"#E5ECF6\",\"gridcolor\":\"white\",\"gridwidth\":2,\"linecolor\":\"white\",\"showbackground\":true,\"ticks\":\"\",\"zerolinecolor\":\"white\"}},\"shapedefaults\":{\"line\":{\"color\":\"#2a3f5f\"}},\"ternary\":{\"aaxis\":{\"gridcolor\":\"white\",\"linecolor\":\"white\",\"ticks\":\"\"},\"baxis\":{\"gridcolor\":\"white\",\"linecolor\":\"white\",\"ticks\":\"\"},\"bgcolor\":\"#E5ECF6\",\"caxis\":{\"gridcolor\":\"white\",\"linecolor\":\"white\",\"ticks\":\"\"}},\"title\":{\"x\":0.05},\"xaxis\":{\"automargin\":true,\"gridcolor\":\"white\",\"linecolor\":\"white\",\"ticks\":\"\",\"title\":{\"standoff\":15},\"zerolinecolor\":\"white\",\"zerolinewidth\":2},\"yaxis\":{\"automargin\":true,\"gridcolor\":\"white\",\"linecolor\":\"white\",\"ticks\":\"\",\"title\":{\"standoff\":15},\"zerolinecolor\":\"white\",\"zerolinewidth\":2}}},\"title\":{\"text\":\"\\u0421\\u0445\\u0435\\u043c\\u0430 \\u0432\\u044b\\u0432\\u043e\\u0437\\u0430 \\u0441\\u043d\\u0435\\u0433\\u0430.\"},\"font\":{\"size\":10},\"height\":900},                        {\"responsive\": true}                    ).then(function(){\n",
              "                            \n",
              "var gd = document.getElementById('7ba04645-1b2b-45d9-8ba9-ac92b4b401e9');\n",
              "var x = new MutationObserver(function (mutations, observer) {{\n",
              "        var display = window.getComputedStyle(gd).display;\n",
              "        if (!display || display === 'none') {{\n",
              "            console.log([gd, 'removed!']);\n",
              "            Plotly.purge(gd);\n",
              "            observer.disconnect();\n",
              "        }}\n",
              "}});\n",
              "\n",
              "// Listen for the removal of the full notebook cells\n",
              "var notebookContainer = gd.closest('#notebook-container');\n",
              "if (notebookContainer) {{\n",
              "    x.observe(notebookContainer, {childList: true});\n",
              "}}\n",
              "\n",
              "// Listen for the clearing of the current output cell\n",
              "var outputEl = gd.closest('.output');\n",
              "if (outputEl) {{\n",
              "    x.observe(outputEl, {childList: true});\n",
              "}}\n",
              "\n",
              "                        })                };                            </script>        </div>\n",
              "</body>\n",
              "</html>"
            ]
          },
          "metadata": {}
        }
      ],
      "source": [
        "import plotly.graph_objects as go\n",
        "c1='rgba(0,255,0, 0.5)'\n",
        "c2='rgba(0,255,255, 0.5)'\n",
        "fig = go.Figure(data=[go.Sankey(\n",
        "    orientation='h',\n",
        "    node = dict(\n",
        "      pad = 15,\n",
        "      thickness = 20,\n",
        "      line = dict(color = \"black\", width = 0.5),\n",
        "      label = [ 'Адмиралтейский район',\n",
        "    'Василеостровский район',\n",
        "    'Выборгский район',\n",
        "    'Калининский район',\n",
        "    'Кировский район',\n",
        "    'Колпинский район',\n",
        "    'Красногвардейский район',\n",
        "    'Красносельский район',\n",
        "    'Кронштадтcкий район',\n",
        "    'Курортный район',\n",
        "    'Московский район',\n",
        "    'Невский район',\n",
        "    'Петроградский район',\n",
        "    'Петродворцовый район',\n",
        "    'Приморский район',\n",
        "    'Пушкинский район',\n",
        "    'Фрунзенский район',\n",
        "    'Центральный район',\n",
        "    'Снегоплавильный пункт 1',\n",
        "    'Временный снегоприемный пункт 1',\n",
        "    'Временный снегоприемный пункт 2',\n",
        "    'Снегоплавильный пункт 3',\n",
        "    'ГУДП \"Центр\"',\n",
        "    'ГУДП \"Путь\"'\n",
        "\n",
        " ],\n",
        "      color = ['blue','blue','blue','blue','blue','blue','blue','blue','blue','blue','blue','blue','blue','blue','blue','blue','blue','blue','blue','red','red','blue','blue','blue']\n",
        "    ),\n",
        "    link = dict(\n",
        "      source = [0, 1, 2, 3, 3, 4, 5, 6, 7, 8, 9, 10,11,12,13,14,15,16,17,19,20,22,23,0,22],\n",
        "      target = [22,22,19,19,19,23,18,18,23,20,20,22,18,18,18,18,20,21,22,18,18,19,20,22,18],\n",
        "      value = [1.521969, 1.519553,3.530880,2.355269,2.051800,1.651776,2.775303,2.413163,3.72269,2.272655,3.173556,2.905142,1.487280,1.571576,3.602710,2.982009,2.197869,2.096081,4,4,1,3,2,1,6],\n",
        "      color = [c1,c1,c1,c1,c1,c1,c1,c1,c1,c1,c1,c1,c1,c1,c1,c1,c1,c1,c1,c1,c1,c1,c1,c2,c2]\n",
        "  ))])\n",
        "fig.update_layout(title_text=\"Схема вывоза снега.\", font_size=10)\n",
        "fig.update_layout(height=900)\n",
        "fig.show()"
      ]
    },
    {
      "cell_type": "markdown",
      "source": [
        "Задача № 1\n",
        "\n",
        "Оценить объем снега под вывоз по каждому району.\n",
        "Вычисляется как V=k*h*S\n",
        "где k = коэффициент изнячально определяемый экспертным путем и дальше корректируемый по факту наблюдения за ситуацией\n",
        "h - накопительная высота выпавшего снега с возможностью обнуления (растаял)\n",
        "S - площадь под вывоз\n",
        "\n",
        "Задача № 2\n",
        "\n",
        "Собрать исходные данные:\n",
        "- фактическая возможность по предприятиям по объему вывоза в сутки - взять из статистики прошлого года\n",
        "- фактическая суточная производительность мест приема - из статистики прошлого года\n",
        "- планируемые объемы вывоза привлекаемой техники с указанием конкретных направлений (откуда и куда будут возить)\n",
        "\n"
      ],
      "metadata": {
        "id": "-ktZK4p8DSdC"
      }
    },
    {
      "cell_type": "markdown",
      "source": [
        "Добавить стрелками другого цвета привлекаемую технику, которую можно включать и отключать\n",
        "Исх. Данные\n",
        "Факт. Возможность предприятий по вывозу\n",
        "Факт производительность мест утилизации\n",
        "Объем к вывозу на кв метр\n",
        "Площади под вывоз по районам\n",
        "\n",
        "Если на входе больше, чем на выходе - блок красный\n",
        "\n",
        "В исх данные - кол-во дней закоторое хотим вывезти\n",
        "\n",
        "График остатка снега по дням"
      ],
      "metadata": {
        "id": "MmKdIjbTaBE9"
      }
    }
  ]
}